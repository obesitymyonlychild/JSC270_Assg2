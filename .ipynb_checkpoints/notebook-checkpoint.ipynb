{
 "cells": [
  {
   "cell_type": "code",
   "execution_count": null,
   "metadata": {},
   "outputs": [],
   "source": [
    "import pandas as pd\n",
    "import numpy as np\n",
    "import matplotlib.pyplot as plt\n",
    "import seaborn as sns\n",
    "from scipy import stats\n",
    "import statsmodels.api as sm\n",
    "import statsmodels.formula.api as smf"
   ]
  },
  {
   "cell_type": "code",
   "execution_count": null,
   "metadata": {},
   "outputs": [],
   "source": [
    "income94 = pd.read_csv('https://archive.ics.uci.edu/ml/machine-learning-databases/adult/adult.data', header=None)\n",
    "income94.columns = ['age','workclass', 'fnlwgt','education','education_num','marital_status','occupation',\n",
    "                    'relationship','race','sex','capital_gain','capital_loss','hours_per_week','native_country','gross_income_group']"
   ]
  },
  {
   "cell_type": "markdown",
   "metadata": {},
   "source": [
    "1.\tYes, the continuous data types are age, fnlwgt, education-num, capital-gain, capital-loss, hours-per-week and the rest variables are categorical, represented in Object."
   ]
  },
  {
   "cell_type": "code",
   "execution_count": null,
   "metadata": {},
   "outputs": [],
   "source": [
    "income94.info()"
   ]
  },
  {
   "cell_type": "markdown",
   "metadata": {},
   "source": [
    "2.\tThe missing values are represented by ‘ ?’ in this data. Three columns with missing values are ‘workclass’, ‘occupation’, ‘native_country’ with 1836, 1843, 583 missing values respectively."
   ]
  },
  {
   "cell_type": "code",
   "execution_count": null,
   "metadata": {},
   "outputs": [],
   "source": [
    "income94.occupation.value_counts().index"
   ]
  },
  {
   "cell_type": "code",
   "execution_count": null,
   "metadata": {},
   "outputs": [],
   "source": [
    "income94 = income94.replace(' ?', np.nan)\n",
    "income94.isna().sum()"
   ]
  },
  {
   "cell_type": "markdown",
   "metadata": {},
   "source": [
    "3.\tYes, both of the two variables should be transformed in order to overcome outliers and these two variables can be combined into one categorical variable by subtracting them and categorized by value. "
   ]
  },
  {
   "cell_type": "code",
   "execution_count": null,
   "metadata": {},
   "outputs": [],
   "source": [
    "plt.hist(income94.capital_gain)\n",
    "plt.title('Histogram of capital gain')\n",
    "plt.xlabel('capital gain')\n",
    "plt.ylabel('Frequency')\n",
    "plt.show()"
   ]
  },
  {
   "cell_type": "code",
   "execution_count": null,
   "metadata": {},
   "outputs": [],
   "source": [
    "plt.hist(income94.capital_loss, bins = 10)\n",
    "plt.title('Histogram of capital loss')\n",
    "plt.xlabel('capital loss')\n",
    "plt.ylabel('Frequency')\n",
    "plt.show()"
   ]
  },
  {
   "cell_type": "code",
   "execution_count": null,
   "metadata": {
    "scrolled": true
   },
   "outputs": [],
   "source": [
    "income94['capital_net'] = income94['capital_gain'].sub(income94['capital_loss'], axis = 0)"
   ]
  },
  {
   "cell_type": "markdown",
   "metadata": {},
   "source": [
    "4.\tfnlwgt is not symmetrically distributed from the histogram. Female and male have similar trends in the distribution. Also by the boxplot of final weight, we can observe outliers with large deviation from the mean so I choose not to remove outliers."
   ]
  },
  {
   "cell_type": "code",
   "execution_count": null,
   "metadata": {},
   "outputs": [],
   "source": [
    "plt.hist(income94.fnlwgt)\n",
    "plt.title('Histogram of final weight')\n",
    "plt.xlabel('')\n",
    "plt.ylabel('Frequency')\n",
    "plt.show()"
   ]
  },
  {
   "cell_type": "code",
   "execution_count": null,
   "metadata": {},
   "outputs": [],
   "source": [
    "sns.histplot(data = income94, x = 'fnlwgt', hue = 'sex')\n",
    "plt.show()"
   ]
  },
  {
   "cell_type": "code",
   "execution_count": null,
   "metadata": {},
   "outputs": [],
   "source": [
    "sns.boxplot(x = 'fnlwgt', data = income94)\n",
    "plt.xlabel('final weight')\n",
    "plt.title('boxplot of final weight')\n",
    "plt.show()"
   ]
  },
  {
   "cell_type": "code",
   "execution_count": null,
   "metadata": {},
   "outputs": [],
   "source": [
    "def get_outliers(num_var, df):\n",
    "  '''Get outliers based on whiskers from \n",
    "  boxplot.\n",
    "  Input - num_var: A string representing the v\n",
    "  variable of interest\n",
    "  df: The pd df containing the numerical data\n",
    "  Output: A pd df containing the outlier obs\n",
    "  '''\n",
    "  # Capture 1st and 3rd quartiles\n",
    "  firstquart = df[num_var].quantile(q=0.25)\n",
    "  thirdquart = df[num_var].quantile(q=0.75)\n",
    "  # Generate IQR\n",
    "  iqr = thirdquart - firstquart\n",
    "  # Generate Whiskers\n",
    "  lower_whisker = firstquart - 1.5*iqr\n",
    "  upper_whisker = thirdquart + 1.5*iqr\n",
    "  # Gen outlier df\n",
    "  outliers = df[(df[num_var] > upper_whisker) | (df[num_var] < lower_whisker)]\n",
    "  print('The variable {} has {} outliers'.format(num_var, len(outliers)))\n",
    "  return outliers\n",
    "\n",
    "outliers = get_outliers('fnlwgt', income94)"
   ]
  },
  {
   "cell_type": "markdown",
   "metadata": {},
   "source": [
    "a.\tNone of these variable pairs seems to be correlated since no patterns can be observed from the scatterplots."
   ]
  },
  {
   "cell_type": "code",
   "execution_count": null,
   "metadata": {},
   "outputs": [],
   "source": [
    "sns.pairplot(income94[['age', 'education_num', 'hours_per_week']])\n",
    "plt.show()"
   ]
  },
  {
   "cell_type": "markdown",
   "metadata": {},
   "source": [
    "b.\tAmong these three variable pairs, ‘education_num’ and ‘hours_per_week’ has a correlation equals 0.14, which is above 0.1. The p-value for its correlation is statistically significant. This cannot be observed from the pair plot, it is not expected."
   ]
  },
  {
   "cell_type": "code",
   "execution_count": null,
   "metadata": {},
   "outputs": [],
   "source": [
    "income94[['age', 'education_num', 'hours_per_week']].corr()"
   ]
  },
  {
   "cell_type": "code",
   "execution_count": null,
   "metadata": {},
   "outputs": [],
   "source": [
    "from scipy.stats import pearsonr\n",
    "pearsonr(income94.education_num, income94.hours_per_week)"
   ]
  },
  {
   "cell_type": "markdown",
   "metadata": {},
   "source": [
    "c.\tThe correlation between age and education number among male is larger than that in female. Additionally, the correlation among male is statistically significant whereas the correlation among female has a p-value above 0.05. This is unexpected since a greater correlation can be observed among male than female. "
   ]
  },
  {
   "cell_type": "code",
   "execution_count": null,
   "metadata": {},
   "outputs": [],
   "source": [
    "Male = income94[income94['sex'] == ' Male']\n",
    "Female = income94[income94['sex'] == ' Female']\n",
    "pearsonr(Male.education_num, Male.age)"
   ]
  },
  {
   "cell_type": "code",
   "execution_count": null,
   "metadata": {},
   "outputs": [],
   "source": [
    "pearsonr(Female.education_num, Female.age)"
   ]
  },
  {
   "cell_type": "markdown",
   "metadata": {},
   "source": [
    "d.\tComparing the variance covariance matrix of weighted and unweighted, we can observe larger variance of ‘education_num’ in weighted table. It suggests that the weight for observation with education number far from mean is larger than those are close to the mean. \n",
    "Also we can observe a smaller variance of ‘hours_per_week’, which suggests weights for extreme working hours are less than those closer to mean. \n",
    "Last, we can observe lower covariance between ‘education_num’ and ‘hours_per_week’. The positive relation between education number and working hours decrease due to weights. This suggests that observations with less positive relationship (relatively higher education numbers with fewer working hours and vice versa) are given more final weight. \n",
    "We can infer that those with large education numbers and relatively fewer working hours and those with small education numbers and relatively more working hours may be over represented in this dataset. \n"
   ]
  },
  {
   "cell_type": "code",
   "execution_count": null,
   "metadata": {},
   "outputs": [],
   "source": [
    "np.cov(income94[['education_num', 'hours_per_week']].transpose(), fweights=income94.fnlwgt)"
   ]
  },
  {
   "cell_type": "code",
   "execution_count": null,
   "metadata": {},
   "outputs": [],
   "source": [
    "np.cov(income94[['education_num', 'hours_per_week']].transpose())"
   ]
  },
  {
   "cell_type": "markdown",
   "metadata": {},
   "source": [
    "(a) Yes, since we can obtain a positive coefficient for category variable “Male”. The average male working hours is 6.02 higher than the average for female in this dataset. "
   ]
  },
  {
   "cell_type": "code",
   "execution_count": null,
   "metadata": {},
   "outputs": [],
   "source": [
    "reg1 = smf.ols('hours_per_week~sex', data = income94).fit()\n",
    "print(reg1.summary())"
   ]
  },
  {
   "cell_type": "markdown",
   "metadata": {},
   "source": [
    "(b) “education_num” is significant since the p-value for this variable is less than 0.05. "
   ]
  },
  {
   "cell_type": "code",
   "execution_count": null,
   "metadata": {},
   "outputs": [],
   "source": [
    "reg2 = smf.ols('hours_per_week~sex + education_num', data = income94).fit()\n",
    "print(reg2.summary())"
   ]
  },
  {
   "cell_type": "markdown",
   "metadata": {},
   "source": [
    "(c) I would choose adjusted r-squared to decide which model is better. By adjusted r-squared, the model with three predictors is the best. To re-do the model fitting procedure, we would change the first independent variable in our model and the order the of second and third variable in order to test all pairs. "
   ]
  },
  {
   "cell_type": "code",
   "execution_count": null,
   "metadata": {},
   "outputs": [],
   "source": [
    "reg3 = smf.ols('hours_per_week~sex + education_num + gross_income_group', data = income94).fit()\n",
    "print(reg3.summary())"
   ]
  }
 ],
 "metadata": {
  "kernelspec": {
   "display_name": "Python 3",
   "language": "python",
   "name": "python3"
  },
  "language_info": {
   "codemirror_mode": {
    "name": "ipython",
    "version": 3
   },
   "file_extension": ".py",
   "mimetype": "text/x-python",
   "name": "python",
   "nbconvert_exporter": "python",
   "pygments_lexer": "ipython3",
   "version": "3.7.6"
  }
 },
 "nbformat": 4,
 "nbformat_minor": 4
}
